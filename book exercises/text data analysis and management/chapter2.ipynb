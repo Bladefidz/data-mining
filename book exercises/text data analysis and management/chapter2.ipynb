{
 "cells": [
  {
   "cell_type": "markdown",
   "metadata": {},
   "source": [
    "2.1. What can you say about \\\\(P(X|Y)\\\\) if we know \\\\(X\\\\) and \\\\(Y\\\\) are independent random variables? Prove it.\n",
    "\n",
    "\\\\(P(X|Y)\\\\) where \\\\(X\\\\) and \\\\(Y\\\\) are independent random variables mean no correlation between \\\\(X\\\\) and \\\\(Y\\\\).\n",
    "\n",
    "*Prove*:\n",
    "\n",
    "If \\\\(X\\\\) and \\\\(Y\\\\) are independent, then implied that \\\\(P(X, Y) = P(X)P(y)\\\\). So, the conditional probabilies of \\\\(X\\\\) and \\\\(Y\\\\) does not applied since \\\\(Y\\\\) do not depended on \\\\(X\\\\). Furthermore, both \\\\(P(X)\\\\) and \\\\(P(Y)\\\\) are always apriori. So, the conditional \\\\(P(X|Y)\\\\) does not exist or \\\\(P(X|Y) = P(X)\\\\) and \\\\(P(Y|X) = P(Y)\\\\)."
   ]
  },
  {
   "cell_type": "markdown",
   "metadata": {},
   "source": [
    "2.2. In an Information Retrieval course, there are 78 computer science majors, 21 electrical and computer engineering majors, and 10 library and information science majors. Two students are randomly selected from the course.\n",
    "\n",
    "* What is the probability that they are from the same department?\n",
    "\n",
    "$$\\eqalign{\n",
    "P(same_d)   &= P(2CS) + P(2ECE) + P(2LIS)\\\\\n",
    "            &= [(78/109) * (77/108)] + [(21/109) * (20/108)] + [(10/109) * (9/108)]\\\\\n",
    "            &= (6006+420+90)/11772\\\\\n",
    "            &= 6516/11772\\\\\n",
    "            &= 0.5535168195718655\n",
    "}$$\n",
    "\n",
    "\n",
    "* What is the probability that they are from different departments?\n",
    "\n",
    "$$\\eqalign{\n",
    "P(diff_d)   &= P(CS+ECE) + P(CS+LIS) + P(ECE+LIS)\\\\\n",
    "            &= [(78/109) * (21/108)] + [(78/109) * (10/108)] + [(21/109) * (10/108)]\\\\\n",
    "            &= (1638+780+210)/11772\\\\\n",
    "            &= 2628/11772\\\\\n",
    "            &= 0.22324159021406728\n",
    "}$$"
   ]
  },
  {
   "cell_type": "markdown",
   "metadata": {},
   "source": [
    "2.3. Use Bayes’ rule to solve the following problem. One third of the time, Milo takes the bus to work and the other times he takes the train. The bus is less reliable, so he gets to work on time only 50% of the time. If taking the train, he is on time 90% of the time. Given that he was on time on a particular day, what is the probability that Milo took the bus?\n",
    "\n",
    "\n",
    "We know that:\n",
    "\n",
    "* \\\\(P(bus) = 1/3\\\\) and \\\\(P(train) = 2/3\\\\)\n",
    "* \\\\(P(bus|ontime) = 1/2\\\\) and \\\\(P(train|ontime) = 9/10\\\\)\n",
    "\n",
    "So:\n",
    "\n",
    "* \\\\(P(ontime=1|bus) = \\frac{P(bus|ontime)P(ontime)}{P(bus)} = \\frac{1/2*1/2}{1/3} = 3/4\\\\)"
   ]
  }
 ],
 "metadata": {
  "kernelspec": {
   "display_name": "Python 3",
   "language": "python",
   "name": "python3"
  },
  "language_info": {
   "codemirror_mode": {
    "name": "ipython",
    "version": 3
   },
   "file_extension": ".py",
   "mimetype": "text/x-python",
   "name": "python",
   "nbconvert_exporter": "python",
   "pygments_lexer": "ipython3",
   "version": "3.6.5"
  }
 },
 "nbformat": 4,
 "nbformat_minor": 2
}

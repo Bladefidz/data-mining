{
 "cells": [
  {
   "cell_type": "markdown",
   "metadata": {},
   "source": [
    "2.1. What can you say about \\\\(P(X|Y)\\\\) if we know \\\\(X\\\\) and \\\\(Y\\\\) are independent random variables? Prove it.\n",
    "\n",
    "\\\\(P(X|Y)\\\\) where \\\\(X\\\\) and \\\\(Y\\\\) are independent random variables mean no correlation between \\\\(X\\\\) and \\\\(Y\\\\).\n",
    "\n",
    "*Prove*:\n",
    "\n",
    "If \\\\(X\\\\) and \\\\(Y\\\\) are independent, then implied that \\\\(P(X, Y) = P(X)P(y)\\\\). So, the conditional probabilies of \\\\(X\\\\) and \\\\(Y\\\\) does not applied since \\\\(Y\\\\) do not depended on \\\\(X\\\\). Furthermore, both \\\\(P(X)\\\\) and \\\\(P(Y)\\\\) are always apriori. So, the conditional \\\\(P(X|Y)\\\\) does not exist or \\\\(P(X|Y) = P(X)\\\\) and \\\\(P(Y|X) = P(Y)\\\\)."
   ]
  },
  {
   "cell_type": "markdown",
   "metadata": {},
   "source": [
    "2.2. In an Information Retrieval course, there are 78 computer science majors, 21 electrical and computer engineering majors, and 10 library and information science majors. Two students are randomly selected from the course.\n",
    "\n",
    "* What is the probability that they are from the same department?\n",
    "\n",
    "$$\\eqalign{\n",
    "P(same_d)   &= P(2CS) + P(2ECE) + P(2LIS)\\\\\n",
    "            &= [(78/109) * (77/108)] + [(21/109) * (20/108)] + [(10/109) * (9/108)]\\\\\n",
    "            &= (6006+420+90)/11772\\\\\n",
    "            &= 6516/11772\\\\\n",
    "            &= 0.5535168195718655\n",
    "}$$\n",
    "\n",
    "\n",
    "* What is the probability that they are from different departments?\n",
    "\n",
    "$$\\eqalign{\n",
    "P(diff_d)   &= P(CS+ECE) + P(CS+LIS) + P(ECE+LIS)\\\\\n",
    "            &= [(78/109) * (21/108)] + [(78/109) * (10/108)] + [(21/109) * (10/108)]\\\\\n",
    "            &= (1638+780+210)/11772\\\\\n",
    "            &= 2628/11772\\\\\n",
    "            &= 0.22324159021406728\n",
    "}$$"
   ]
  },
  {
   "cell_type": "markdown",
   "metadata": {},
   "source": [
    "2.3. Use Bayes’ rule to solve the following problem. One third of the time, Milo takes the bus to work and the other times he takes the train. The bus is less reliable, so he gets to work on time only 50% of the time. If taking the train, he is on time 90% of the time. Given that he was on time on a particular day, what is the probability that Milo took the bus?\n",
    "\n",
    "\n",
    "We know that:\n",
    "\n",
    "* \\\\(P(bus) = 1/3\\\\) and \\\\(P(train) = 2/3\\\\)\n",
    "* \\\\(P(bus|ontime) = 1/2\\\\) and \\\\(P(train|ontime) = 9/10\\\\)\n",
    "\n",
    "So:\n",
    "\n",
    "* \\\\(P(ontime=1|bus) = \\frac{P(bus|ontime)P(ontime)}{P(bus)} = \\frac{1/2*1/2}{1/3} = 3/4\\\\)"
   ]
  },
  {
   "cell_type": "markdown",
   "metadata": {},
   "source": [
    "2.4. In a game based on a deck of 52 cards, a single card is drawn. Depending on the type of card, a certain value is either won or lost. If the card is one of the four aces, \\$10 is won. If the card is one of the four kings, \\$5 is won. If the card is one of the eleven diamonds that is not a king or ace, \\$2 is won. Otherwise, \\$1 is lost. What are the expected winnings or losings after drawing a single card? (Would you play?)\n",
    "\n",
    "We know that:\n",
    "\n",
    "* won(ace) = \\$10, while \\\\(P(4/52) = 0.0769\\\\)\n",
    "* won(king) = \\$5, while \\\\(P(4/52) = 0.0769\\\\)\n",
    "* won(diamond) = \\$2, while \\\\(P(11/52) = 0.2115\\\\)\n",
    "* lost(else) = \\$1, while \\\\(P(41/52) = 0.788\\\\)\n",
    "\n",
    "Expected winnings or lossings after drawing a single cards:\n",
    "\n",
    "* \\\\(E(won) = \\$0.769 + \\$0.385 + \\$0.423 - \\$0.788 = \\$0.7889\\\\)"
   ]
  },
  {
   "cell_type": "markdown",
   "metadata": {},
   "source": [
    "2.5. Consider the game outlined in the previous question. Imagine that two aces were drawn, leaving 50 cards remaining. What is the expected value of the next draw?\n",
    "\n",
    "When \\\\(\\sum_{ace} = 2\\\\) and \\\\(S=50\\\\), then\n",
    "\n",
    "* \\\\(P(2/50) = 0.04\\\\)\n",
    "* \\\\(P(4/50) = 0.08\\\\)\n",
    "* \\\\(P(11/50) = 0.22\\\\)\n",
    "* \\\\(P(41/50) = 0.82\\\\)\n",
    "\n",
    "Expected winnings or lossings after drawing a single cards:\n",
    "\n",
    "* \\\\(E(won) = \\$10 * 0.04 + \\$5 * 0.08 + \\$2 * 0.22 - \\$1 * 0.82 = \\$0.4 + \\$0.4 + \\$0.44 - \\$0.82 = \\$0.42\\\\)"
   ]
  },
  {
   "cell_type": "markdown",
   "metadata": {},
   "source": [
    "2.6. In the information theory section, we defined three random variables X, Y, and Z when discussing entropy. We compared H(Y) with H(Z). How does H(X) compare to the other two entropies?\n",
    "\n",
    "We know that:\n",
    "\n",
    "* \\\\(X = \\{0, 1\\}\\\\), then \\\\(H(X)= -\\frac{1}{2}*log_2 \\frac{1}{2} - \\frac{1}{2}*log_2\\frac{1}{2} = 1\\\\)\n",
    "* \\\\(Y\\\\) is determined to be 1, so \\\\(H(Y) = 0\\\\)\n",
    "* \\\\(Z = \\{1, 2, 3\\}\\\\), then \\\\(H(Z) = -\\frac{1}{3} * log_2 \\frac{1}{3} - \\frac{1}{3} * log_2 \\frac{1}{3} - \\frac{1}{3} * log_2 \\frac{1}{3} = 1.58\\\\)\n",
    "\n",
    "So:\n",
    "\n",
    "* \\\\(H(Y) < H(X) < H(Z)\\\\)"
   ]
  },
  {
   "cell_type": "markdown",
   "metadata": {},
   "source": [
    "2.7. In the information theory section, we compared the entropy of the word the to that of the word unicorn. In general, what types of words have a high entropy and what types of words have a low entropy? As an example, consider a corpus of ten documents where the occurs in all documents, unicorn appears in five documents, and Mercury appears in one document. What would be the entropy value of each?\n",
    "\n",
    "* \\\\(H(unicorn) = -5/10 * log_2 5/10 = 0.5\\\\)\n",
    "* \\\\(H(mercury) = -1/10 * log_2 1/10 = 0.332\\\\)"
   ]
  }
 ],
 "metadata": {
  "kernelspec": {
   "display_name": "Python 3",
   "language": "python",
   "name": "python3"
  },
  "language_info": {
   "codemirror_mode": {
    "name": "ipython",
    "version": 3
   },
   "file_extension": ".py",
   "mimetype": "text/x-python",
   "name": "python",
   "nbconvert_exporter": "python",
   "pygments_lexer": "ipython3",
   "version": "3.6.5"
  }
 },
 "nbformat": 4,
 "nbformat_minor": 2
}

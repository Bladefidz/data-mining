{
 "cells": [
  {
   "cell_type": "markdown",
   "metadata": {},
   "source": [
    "# Week 1 Overview\n",
    "\n",
    "During this week's lessons, you will learn the overall course design, an overview of natural language processing techniques, which are the foundation for all kinds of text-processing applications, the concept of a retrieval model, and the basic idea of the vector space model."
   ]
  },
  {
   "cell_type": "markdown",
   "metadata": {},
   "source": [
    "## Key Concepts:\n",
    "\n",
    "* Part of Speech tagging, syntactic analysis, semantic analysis, and ambiguity\n",
    "* “Bag of words” representation\n",
    "* Push, pull, querying, browsing\n",
    "* Probability ranking principle\n",
    "* Relevance\n",
    "* Vector space model\n",
    "* Dot product\n",
    "* Bit vector representation "
   ]
  },
  {
   "cell_type": "markdown",
   "metadata": {},
   "source": [
    "## Recommended Readings:\n",
    "\n",
    "* N. J. Belkin and W. B. Croft. 1992. Information filtering and information retrieval: Two sides of the same coin? Commun. ACM 35, 12 (Dec. 1992), 29-38.\n",
    "* C. Zhai and S. Massung, Text Data Management and Analysis: A Practical Introduction to Information Retrieval and Text Mining, ACM Book Series, Morgan & Claypool Publishers, 2016. Chapters 1 - 6. "
   ]
  },
  {
   "cell_type": "markdown",
   "metadata": {},
   "source": [
    "## Goals and Objectives\n",
    "\n",
    "After you actively engage in the learning experiences in this module, you should be able to:\n",
    "\n",
    "* Explain some basic concepts in natural language processing, text information access.\n",
    "* Explain why text retrieval is often defined as a ranking problem.\n",
    "* Explain the basic idea of the vector space retrieval model and how to instantiate it with the simplest bit-vector representation."
   ]
  },
  {
   "cell_type": "markdown",
   "metadata": {},
   "source": [
    "## Guiding Questions\n",
    "\n",
    "Develop your answers to the following guiding questions while watching the video lectures throughout the week.\n",
    "\n",
    "* What does a computer have to do in order to understand a natural language sentence?<br>\n",
    "Computer implement some state of the art Natural Language Processing such as lexical analysis, syntactic analysis, semantic analysis to deduce inference, and pragmatic analysis.<br>\n",
    "![nlp](images/nlp.png)\n",
    "<br><br>\n",
    "* What is ambiguity?<br>\n",
    "Ambiguity is subjective meaning of the words based background of knowledge of person.\n",
    "<br><br>\n",
    "* Why is natural language processing (NLP) difficult for computers?<br>\n",
    "Natural language represent *human common knowledge* and tend to be high bias in practice since different meaning could be deduced from single word but may be understood as similar meaning, regardless person's background of knowledge. Since until now we can not encode that *human common knowledge*, it is difficult for computer to implement natural language processing as human do.\n",
    "<br><br>\n",
    "* What is bag-of-words representation? Why do modern search engines use this simple representation of text?<br>\n",
    "The bag-of-words is simple data structure similar to linked list but spicified to store word data type. Collected word may has been sanitized into basic form, for example: 'meaning' -> 'mean'. Modern search engine used bag-of-words to support as-hoc searching since most users did searching by give *search query* which may not followed standard rule of natural language such lexical and syntactical. \n",
    "<br><br>\n",
    "* What are the two modes of text information access? Which mode does a web search engine such as Google support?<br>\n",
    "Two modes of text information access:\n",
    "    1. **Pull**: Search based on user initiative while system take passive position which provide relevant information if only if user sent query. This mode also called as ad-hoc information retrieval. \n",
    "    2. **Push**: System take active position which actively give information recommendation based on knowledge about user's need. This mode also called as recommender system.\n",
    "<br><br>\n",
    "* When is browsing more useful than querying to help a user find relevant information?<br>\n",
    "When user did not exactly which approriate query to be used in searching, then browsing may be helpful for user to find relevant information through discovery.\n",
    "<br><br>\n",
    "* Why is a text retrieval task defined as a ranking task?<br>\n",
    "Since the ambuigity will tackle the accuracy of search result and user preferences tend to be varies, may know exactly which query to be used or does not know at all. Then the best strategy is implemented text retrieval algorithm which depend on user judgement. One strategy is collect relevant document ranked based on probability of relevance. This strategy help user to decide which any document is relevance or not. \n",
    "<br><br>\n",
    "* What is a retrieval model?<br>\n",
    "A retrieval model is a model which try to define function \\\\(f(q, d)\\\\) to generate relevance documents.\n",
    "<br><br>\n",
    "* What are the two assumptions made by the Probability Ranking Principle?\n",
    "    1. Utility of relevance in all documents is independent to each other.\n",
    "    2. A user tend to browse document sequentially. \n",
    "<br><br>\n",
    "* What is the Vector Space Retrieval Model? How does it work?<br>\n",
    "Vector space model is similiarity based model which define function of relevance as similiarity \\\\(f(q, d) = similiarity(q, d)\\\\). Vector space model implement concept of orthogonality in linear algebra to define query and document as vectors and then calculate distance between them.\n",
    "<br><br>\n",
    "* How do we define the dimensions of the Vector Space Model? What does “bag of words” representation mean?<br>\n",
    "It is general retrieval framework rather than technical tool. Vector space model represent bag of the words as axes in multi dimesional space, while query and document are vectors in multi dimensional space. Lesser distance between document vector to query vector, more relevance it is.\n",
    "<br><br>\n",
    "* What does the retrieval function intuitively capture when we instantiate a vector space model with bag of words representation and bit representation for documents and queries?<br>\n",
    "Using bit representation, vector space model capture word matched in the document (D) and query (Q) defined by linear operation \\\\(D^T * Q\\\\) or dot product.\n",
    "<br><br>"
   ]
  },
  {
   "cell_type": "markdown",
   "metadata": {},
   "source": []
  }
 ],
 "metadata": {
  "kernelspec": {
   "display_name": "Python 3",
   "language": "python",
   "name": "python3"
  },
  "language_info": {
   "codemirror_mode": {
    "name": "ipython",
    "version": 3
   },
   "file_extension": ".py",
   "mimetype": "text/x-python",
   "name": "python",
   "nbconvert_exporter": "python",
   "pygments_lexer": "ipython3",
   "version": "3.6.5"
  }
 },
 "nbformat": 4,
 "nbformat_minor": 2
}
